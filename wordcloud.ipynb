{
 "cells": [
  {
   "cell_type": "markdown",
   "source": [
    "# Heart-masked telegram wordcloud"
   ],
   "metadata": {
    "collapsed": false
   }
  },
  {
   "cell_type": "code",
   "execution_count": null,
   "outputs": [],
   "source": [
    "import string\n",
    "from wordcloud import WordCloud\n",
    "import matplotlib.pyplot as plt\n",
    "import pandas as pd\n",
    "import json\n",
    "with open(\"result.json\", 'r', encoding=\"utf-8\") as file:\n",
    "    json_data = file.read()\n",
    "\n",
    "parsed_json = json.loads(json_data)\n",
    "df = pd.DataFrame(parsed_json[\"messages\"])\n",
    "message_texts = df['text']\n",
    "# Мы скипаем все сложные сообщения, оставляем только те, что состоят только из строк. В количественном отношении у меня сложны сообщений было меньше 0.1%\n",
    "message_texts = message_texts.loc[(message_texts.apply(lambda x: type(x) == str))]\n",
    "# А тут скипаем все пустые ячейки\n",
    "message_texts.loc[message_texts != \"\"]"
   ],
   "metadata": {
    "collapsed": false
   }
  },
  {
   "cell_type": "code",
   "execution_count": null,
   "outputs": [],
   "source": [
    "# Поработаем со стоп словами\n",
    "from nltk.corpus import stopwords\n",
    "stop_words = set(stopwords.words('russian'))\n",
    "with open(\"ru-stop_words.txt\", 'r', encoding='utf-8') as f:\n",
    "    words = [line.rstrip(\"\\n\") for line in f.readlines()]\n",
    "    stop_words.update(words)\n",
    "stop_words.update(\"просто это тебе знаю хочу буду щас почему сегодня ладно понял чо думаю завтра \".split())"
   ],
   "metadata": {
    "collapsed": false
   }
  },
  {
   "cell_type": "code",
   "execution_count": null,
   "outputs": [],
   "source": [
    "from nltk.tokenize import word_tokenize\n",
    "def preprocess_text(message_text):\n",
    "    tokens = word_tokenize(message_text)\n",
    "    # Тут мы чистим стоп-слова и пунктуационные знаки\n",
    "    message_text = \" \".join([word.lower() for word in tokens if not (word in stop_words or word in string.punctuation)])\n",
    "    return message_text"
   ],
   "metadata": {
    "collapsed": false
   }
  },
  {
   "cell_type": "code",
   "execution_count": null,
   "outputs": [],
   "source": [
    "filtered_texts = message_texts.apply(preprocess_text)\n",
    "filtered_texts"
   ],
   "metadata": {
    "collapsed": false
   }
  },
  {
   "cell_type": "code",
   "execution_count": null,
   "outputs": [],
   "source": [
    "from PIL import Image, ImageOps\n",
    "import numpy as np\n",
    "mask = Image.open('img/mask.png')\n",
    "# так как изначально моя маска была кривая и косая, мне пришлось немного повыёживаться и сделать из неё контрастную\n",
    "# color1 = (255, 255, 255)\n",
    "# color2 = (0, 0, 0)\n",
    "# mask = ImageOps.colorize(original_image.convert('L'), color2, color1)\n",
    "# mask_array = np.array(mask, dtype=float) / 255.0\n",
    "# mask_array = (1 - np.where(mask_array < 1.0, 0, mask_array)) * 255\n",
    "all_words = \" \".join(filtered_texts)\n",
    "plt.imshow(mask)"
   ],
   "metadata": {
    "collapsed": false
   }
  },
  {
   "cell_type": "code",
   "execution_count": null,
   "outputs": [],
   "source": [
    "# word_counts = Counter(all_words)\n",
    "# top_words = dict(word_counts.most_common(100))\n",
    "wordcloud = WordCloud(width = 1000, height = 1000, random_state=1,\n",
    "                      background_color='black', colormap='Set1',\n",
    "                      collocations=False, stopwords=stop_words, mask=np.array(mask))\n",
    "# wordcloud.generate_from_frequencies(top_words)\n",
    "wordcloud.generate(all_words)\n",
    "plt.figure(figsize=(5,5), dpi=300)\n",
    "plt.axis('off')\n",
    "plt.imshow(wordcloud)\n",
    "plt.tight_layout()\n",
    "plt.savefig(\"img/result.png\", bbox_inches='tight')"
   ],
   "metadata": {
    "collapsed": false
   }
  },
  {
   "cell_type": "code",
   "execution_count": null,
   "outputs": [],
   "source": [],
   "metadata": {
    "collapsed": false
   }
  },
  {
   "cell_type": "code",
   "execution_count": null,
   "outputs": [],
   "source": [],
   "metadata": {
    "collapsed": false
   }
  }
 ],
 "metadata": {
  "kernelspec": {
   "display_name": "Python 3",
   "language": "python",
   "name": "python3"
  },
  "language_info": {
   "codemirror_mode": {
    "name": "ipython",
    "version": 2
   },
   "file_extension": ".py",
   "mimetype": "text/x-python",
   "name": "python",
   "nbconvert_exporter": "python",
   "pygments_lexer": "ipython2",
   "version": "2.7.6"
  }
 },
 "nbformat": 4,
 "nbformat_minor": 0
}
